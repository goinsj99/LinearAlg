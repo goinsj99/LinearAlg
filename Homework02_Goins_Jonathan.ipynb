{
 "cells": [
  {
   "cell_type": "markdown",
   "metadata": {},
   "source": [
    "---\n",
    "\n",
    "# CSCI 2820, Spring 2022\n",
    "# Homework 2\n",
    "# Due: Friday January 28, 2022 at 11:59 PM\n",
    "\n",
    "<br> \n",
    "\n",
    "### Your name:\n",
    "\n",
    "<br> "
   ]
  },
  {
   "cell_type": "markdown",
   "metadata": {},
   "source": [
    "## Problem 1\n",
    "\n",
    "A unit mass moves on a straight line (in one dimension). The position of the mass at time $t$ (in seconds) is denoted by $s(t)$, and its derivatives (the velocity and acceleration) by $s'(t)$ and $s''(t)$. The position as a function of time can be determined from Newton's second law \n",
    "$$ s''(t) = F(t) $$\n",
    "where $F(t)$ is the force applied at time $t$, and the initial conditions $s(0),s'(0)$. We assume $F(t)$ is piecewise-constant, and is kept constant iin intervals of one second. The sequence of forces $F(t)$, for $0 \\leq t < 10$, can be represented by a 10-vector $f$, with \n",
    "$$F(t) = f_k, \\ \\ \\ k-1 \\leq t < k $$"
   ]
  },
  {
   "cell_type": "markdown",
   "metadata": {},
   "source": [
    "---\n",
    "**Derive expressions for the final velocity $s'(10)$. Show that $s'(10)$ is an affine function of $x$, and give 10-vector $a$ and constants $b$ for which:\n",
    "$$s'(10) = a^Tf+b$$**\n",
    "\n",
    "---\n",
    "This means that the mapping from the applied force sequence to the final velocity is affine. \n",
    "\n",
    "Hint: You can use that $$s'(t) = s'(0) + \\int_0^t F(\\tau) \\ d\\tau,$$\n"
   ]
  },
  {
   "cell_type": "markdown",
   "metadata": {},
   "source": [
    "---\n",
    "A note about your writeup: You may use the markdown cell below to latex your solution. If you do this, you  will recieve +1 extra credit points for this problem. You may also handwrite your solution and use the markdown cell below to include an image of your written work (Edit -> Insert Image). There is no extra credit point for including an image of handwritten work.\n",
    "\n",
    "---"
   ]
  },
  {
   "cell_type": "markdown",
   "metadata": {},
   "source": [
    "**Solution**\n",
    "\n"
   ]
  },
  {
   "cell_type": "markdown",
   "metadata": {},
   "source": [
    "---\n",
    "## Problem 2\n",
    "\n",
    "**Part A:** Show that the following function is a linear function by showing that it has the property of superposition. Here, assume that $\\vec{x}$ is an arbitrary $n-$vector with $n \\geq 10$.\n",
    "\n",
    "$$f(\\vec{x}) = x_2+x_4+x_6+x_8+x_{10} $$"
   ]
  },
  {
   "cell_type": "markdown",
   "metadata": {},
   "source": [
    "**Solution:**\n"
   ]
  },
  {
   "cell_type": "markdown",
   "metadata": {},
   "source": [
    "**Part B:** Now let $\\vec{x}$ be the 20-vector given below.\n",
    "\n",
    "$$ \\vec{x} = (1,2,3,4,5,6,7,8,9,10,11,12,13,14,15,16,17,18,19,20)$$\n",
    "\n",
    "Here, $x_1 = 1, x_2 = 2, ..., x_{20} = 20$. As you are coding, keeep in mind that Python is 0-indexed.\n",
    "\n",
    "Use Python to compute $f(\\vec{x})$ strictly as given by the definition above. i.e. You will be summing up 5 elements.\n",
    "\n"
   ]
  },
  {
   "cell_type": "code",
   "execution_count": null,
   "metadata": {},
   "outputs": [],
   "source": [
    "# Your code here."
   ]
  },
  {
   "cell_type": "markdown",
   "metadata": {},
   "source": [
    "**Part C:** Now evaluate $f(\\vec{x})$ again, but this time use the inner product representation of the function. Do not use NumPy for this part. Instead use a loop to compute the inner product. Define $\\vec{x}$ and $\\vec{a}$ as simple python lists. As a check, you should get the same answer here as you did in **Part B**."
   ]
  },
  {
   "cell_type": "code",
   "execution_count": null,
   "metadata": {},
   "outputs": [],
   "source": [
    "# Your code here.        "
   ]
  },
  {
   "cell_type": "markdown",
   "metadata": {},
   "source": [
    "**Part D:** Now evaluate $f(\\vec{x})$ again, but this time use Numpy and it's built-in dot product function. See the documentation here for syntax: https://numpy.org/doc/stable/reference/generated/numpy.dot.html"
   ]
  },
  {
   "cell_type": "code",
   "execution_count": null,
   "metadata": {},
   "outputs": [],
   "source": [
    "# Your code here."
   ]
  },
  {
   "cell_type": "markdown",
   "metadata": {},
   "source": [
    "## Problem 3\n",
    "\n",
    "Now, we will use SciPy Stats to help us find the linear regression cooefficients for the data set `cars.csv`. Note that there is nothing for you to do in Parts A and B other than read, execute the cells, and interrpret the output. You'll be making interpretations of the output in Parts C and D."
   ]
  },
  {
   "cell_type": "markdown",
   "metadata": {},
   "source": [
    "**Part A:** Import cars.csv"
   ]
  },
  {
   "cell_type": "code",
   "execution_count": null,
   "metadata": {},
   "outputs": [],
   "source": [
    "import pandas as pd\n",
    "\n",
    "dfCars = pd.read_csv(\"cars.csv\")\n",
    "dfCars.head()"
   ]
  },
  {
   "cell_type": "markdown",
   "metadata": {},
   "source": [
    "**Part B:** Run the following code to import and use the statsmodels package to generate a model."
   ]
  },
  {
   "cell_type": "code",
   "execution_count": null,
   "metadata": {},
   "outputs": [],
   "source": [
    "\n",
    "import statsmodels.api as sm \n",
    "\n",
    "# Collect the features in a 2D array \n",
    "X = dfCars[[\"Kms_Driven\",\"Year\"]]\n",
    "\n",
    "# Add a constant to the array for the intecept \n",
    "X = sm.add_constant(X)\n",
    "\n",
    "# Collect the response data in an array \n",
    "y = dfCars[\"Selling_Price\"]\n",
    "\n",
    "# Fit the ordinary least-squares (OLS) model \n",
    "model = sm.OLS(y, X).fit()"
   ]
  },
  {
   "cell_type": "code",
   "execution_count": null,
   "metadata": {},
   "outputs": [],
   "source": [
    "model.params"
   ]
  },
  {
   "cell_type": "markdown",
   "metadata": {},
   "source": [
    "**Part C:** The output from `model.params` given in **Part B** gives us everything we need to create a model of the form: $$ \\hat{y} = x^T \\beta + v$$\n",
    "\n",
    "Here, \"Kms_Driven\" and \"Year\" are the two entries in our $x-$ vector. And the constant term (const) is our offset. With that in mind, give the specific model that has been generated for us."
   ]
  },
  {
   "cell_type": "markdown",
   "metadata": {},
   "source": [
    "**Solution:**\n"
   ]
  },
  {
   "cell_type": "markdown",
   "metadata": {},
   "source": [
    "**Part D:** Answer the following questions:\n",
    "- What is your interpretation of the $\\beta_1$ coefficient? \n",
    "- What is your interpretation of the $\\beta_2$ coefficient.\n",
    "\n",
    "- What quantity is our model predicting?"
   ]
  },
  {
   "cell_type": "markdown",
   "metadata": {},
   "source": [
    "**Solution:**\n"
   ]
  },
  {
   "cell_type": "markdown",
   "metadata": {},
   "source": [
    "## Problem 4\n",
    "\n",
    "In this problem, we will again utilize the `cars.csv` data.\n",
    "\n",
    "**Part A:** First we will isolate the `Fuel_Type` column. Execute the following cell to copy the `Fuel_Type` column from the dfCars dataframe to a variable also called `Fuel_Type`."
   ]
  },
  {
   "cell_type": "code",
   "execution_count": null,
   "metadata": {},
   "outputs": [],
   "source": [
    "Fuel_Type = dfCars[\"Fuel_Type\"]"
   ]
  },
  {
   "cell_type": "markdown",
   "metadata": {},
   "source": [
    "**Part B:** If we think of `Fuel_Type` as a vector. How many entries does this vector have?\n"
   ]
  },
  {
   "cell_type": "code",
   "execution_count": null,
   "metadata": {},
   "outputs": [],
   "source": [
    "# Your code here."
   ]
  },
  {
   "cell_type": "markdown",
   "metadata": {},
   "source": [
    "**Solution:** "
   ]
  },
  {
   "cell_type": "markdown",
   "metadata": {},
   "source": [
    "**Part C:** Use the idea of inner products to calculate the number of `Petrol` cars that there are for sale.\n",
    "\n",
    "A few hints:\n",
    "- It might be helpful to use a boolean variable to indicate whether a specific entry is `Petrol` or `Diesel`. I recommend making a vector of Boolean values (0s and 1s) that encodes this information.\n",
    "- Then do an inner product computation to answer the desired question."
   ]
  },
  {
   "cell_type": "code",
   "execution_count": null,
   "metadata": {},
   "outputs": [],
   "source": [
    "# Your code here."
   ]
  },
  {
   "cell_type": "markdown",
   "metadata": {},
   "source": [
    "**Solution:** \n"
   ]
  }
 ],
 "metadata": {
  "kernelspec": {
   "display_name": "Python 3",
   "language": "python",
   "name": "python3"
  },
  "language_info": {
   "codemirror_mode": {
    "name": "ipython",
    "version": 3
   },
   "file_extension": ".py",
   "mimetype": "text/x-python",
   "name": "python",
   "nbconvert_exporter": "python",
   "pygments_lexer": "ipython3",
   "version": "3.7.1"
  }
 },
 "nbformat": 4,
 "nbformat_minor": 2
}
