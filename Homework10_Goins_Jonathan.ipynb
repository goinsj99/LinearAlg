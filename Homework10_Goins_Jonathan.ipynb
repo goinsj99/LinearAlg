{
 "cells": [
  {
   "cell_type": "markdown",
   "metadata": {},
   "source": [
    "---\n",
    "## Homework 10 - QR Factorization \n",
    "---\n"
   ]
  },
  {
   "cell_type": "markdown",
   "metadata": {},
   "source": [
    "### Problem 1:  \n",
    "\n",
    "**PART A:** Fill in the function given below to find the QR factorization of a matrix $A$.\n"
   ]
  },
  {
   "cell_type": "code",
   "execution_count": 1,
   "metadata": {},
   "outputs": [],
   "source": [
    "import numpy as np\n",
    "\n",
    "def qr(A):\n",
    "    # This function takes a single input: a matrix A stored as a 2-d numpy array.\n",
    "    # Your function can assume that A has independent columns.\n",
    "    \n",
    "    # qr(A) should return a pair of matrices (Q, R) such that:\n",
    "    # If A is NxK, Q is NxK and R is KxK\n",
    "    # Q is orthogonal\n",
    "    # R is upper triangular\n",
    "    # Q*R = A\n",
    "    \n",
    "    N,K = np.shape(A)\n",
    "    Q = np.zeros((N,N))\n",
    "    R = np.zeros((K,K))\n",
    "    for i in range(K):\n",
    "        col = A[:,i]\n",
    "        for j in range(i):\n",
    "            y1 = Q[:,j].T\n",
    "            y2 = A[:,i]\n",
    "            R[j,i] = np.dot(y1 , y2)\n",
    "            gram = R[j,i] * Q[:,j]\n",
    "            col = col - gram\n",
    "        temp = np.dot(col,col)\n",
    "        R[i,i] = np.sqrt(temp)\n",
    "        Q[:,i] = (col / R[i,i])\n",
    "  \n",
    "    # Q, R = np.linalg.QR(A)\n",
    "\n",
    "    return (Q, R)\n",
    "    "
   ]
  },
  {
   "cell_type": "markdown",
   "metadata": {},
   "source": [
    "**PART B:** Test your function from **1(A)** on the following matrix:\n",
    "\n",
    "$$ A = \\begin{bmatrix} 0 & 1 & 2 \\\\ 1 & 0 & 1 \\\\ 1 & 1 & 0 \\end{bmatrix} $$\n",
    "\n",
    "Note that we found the $QR$ decomposition of this particular matrix by hand in HW9, so you can check your output."
   ]
  },
  {
   "cell_type": "code",
   "execution_count": 2,
   "metadata": {},
   "outputs": [
    {
     "name": "stdout",
     "output_type": "stream",
     "text": [
      "(array([[ 0.        ,  0.81649658,  0.57735027],\n",
      "       [ 0.70710678, -0.40824829,  0.57735027],\n",
      "       [ 0.70710678,  0.40824829, -0.57735027]]), array([[1.41421356, 0.70710678, 0.70710678],\n",
      "       [0.        , 1.22474487, 1.22474487],\n",
      "       [0.        , 0.        , 1.73205081]]))\n"
     ]
    }
   ],
   "source": [
    "# Call function using matrix A\n",
    "A = np.array([[0,1,2],[1,0,1],[1,1,0]])\n",
    "print(qr(A))"
   ]
  },
  {
   "cell_type": "markdown",
   "metadata": {},
   "source": [
    "### Problem 2:  \n",
    "\n",
    "**PART A:** Fill in the function given below to use the back substitution algorithm."
   ]
  },
  {
   "cell_type": "code",
   "execution_count": 3,
   "metadata": {},
   "outputs": [],
   "source": [
    "def back_substitute(R, b):\n",
    "    \"\"\"This function takes two inputs:\n",
    "    + Matrix R stored as a 2-d numpy array.  Your function can assume that R is upper-triangular with nonzero diagonal.\n",
    "    + Vector b stored as a 1-d numpy vector.\n",
    "\n",
    "    This function should return a vector x such that R * x = b.\n",
    "\n",
    "    Don't use a numpy solve function for this.\n",
    "    Follow the textbook algorithm 11.1 \"Back substitution\".\n",
    "    \"\"\"\n",
    "    Y = R.shape[0]\n",
    "    Z = np.zeros(Y)\n",
    "    for i in range(len(b)-1, -1, -1):\n",
    "        x1 = R[i, i+1:Y]\n",
    "        x2 = Z[i+1:Y]\n",
    "        temp = np.dot(x1,x2)\n",
    "        temp2 = b[i] - temp\n",
    "        Z[i] = temp2/R[i,i]\n",
    "        \n",
    "    return Z"
   ]
  },
  {
   "cell_type": "markdown",
   "metadata": {},
   "source": [
    "**PART B:** Test your function from **2(A)** on the following linear system:\n",
    "\n",
    "$$ \\begin{bmatrix} 1 & 1 & 2 \\\\ 0 & 1 & 1 \\\\ 0 & 0 & 3 \\end{bmatrix}\\textbf{x} = \\begin{bmatrix} 0 \\\\ 0 \\\\ 3 \\end{bmatrix} $$\n"
   ]
  },
  {
   "cell_type": "code",
   "execution_count": 4,
   "metadata": {},
   "outputs": [
    {
     "name": "stdout",
     "output_type": "stream",
     "text": [
      "[-1. -1.  1.]\n"
     ]
    }
   ],
   "source": [
    "R = np.array([[1,1,2],[0,1,1],[0,0,3]])\n",
    "b = np.array([0,0,3])\n",
    "print(back_substitute(R,b))"
   ]
  },
  {
   "cell_type": "markdown",
   "metadata": {},
   "source": [
    "### Problem 3:  \n",
    "\n",
    "**PART A:** Fill in the function given below to use the solving linear equations via QR factorization algorithm."
   ]
  },
  {
   "cell_type": "code",
   "execution_count": 5,
   "metadata": {},
   "outputs": [
    {
     "ename": "SyntaxError",
     "evalue": "invalid syntax (747861562.py, line 12)",
     "output_type": "error",
     "traceback": [
      "\u001b[0;36m  File \u001b[0;32m\"/var/folders/cy/tszj_7ws7hb7fp3pcv_8q62h0000gn/T/ipykernel_11334/747861562.py\"\u001b[0;36m, line \u001b[0;32m12\u001b[0m\n\u001b[0;31m    for i in range (3)\u001b[0m\n\u001b[0m                      ^\u001b[0m\n\u001b[0;31mSyntaxError\u001b[0m\u001b[0;31m:\u001b[0m invalid syntax\n"
     ]
    }
   ],
   "source": [
    "def solve(A, b):\n",
    "    \"\"\"This function takes two inputs:\n",
    "    + Matrix A stored as a 2-d numpy array.  Your function can assume that A has independent columns.\n",
    "    + Vector b stored as a 1-d numpy vector.\n",
    "\n",
    "    This function should return a vector x such that A * x = b.\n",
    "\n",
    "    You MUST use your qr() and back_substitute() functions to solve this linear system.\n",
    "    Follow the textbook algorithm 11.2 \"Solving linear equations via QR factorization\".\n",
    "    \"\"\"\n",
    "   \n",
    "    return x"
   ]
  },
  {
   "cell_type": "markdown",
   "metadata": {},
   "source": [
    "**PART B:** Test your function from **3(A)** on the following linear system:\n",
    "\n",
    "$$ \\begin{bmatrix} 0 & 1 & 2 \\\\ 1 & 0 & 1 \\\\ 1 & 1 & 0 \\end{bmatrix}\\textbf{x} = \\begin{bmatrix} 0 \\\\ 0 \\\\ 3 \\end{bmatrix} $$\n",
    "\n"
   ]
  },
  {
   "cell_type": "code",
   "execution_count": null,
   "metadata": {},
   "outputs": [],
   "source": []
  }
 ],
 "metadata": {
  "kernelspec": {
   "display_name": "Python 3",
   "language": "python",
   "name": "python3"
  },
  "language_info": {
   "codemirror_mode": {
    "name": "ipython",
    "version": 3
   },
   "file_extension": ".py",
   "mimetype": "text/x-python",
   "name": "python",
   "nbconvert_exporter": "python",
   "pygments_lexer": "ipython3",
   "version": "3.9.7"
  }
 },
 "nbformat": 4,
 "nbformat_minor": 2
}
