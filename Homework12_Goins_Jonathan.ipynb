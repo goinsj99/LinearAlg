{
 "cells": [
  {
   "cell_type": "markdown",
   "metadata": {},
   "source": [
    "---\n",
    "## Homework 12 - Model Validation and Feature Engineeriing \n",
    "---\n"
   ]
  },
  {
   "cell_type": "code",
   "execution_count": null,
   "metadata": {},
   "outputs": [],
   "source": [
    "import numpy as np \n",
    "from scipy import stats\n",
    "import sklearn\n",
    "import statsmodels.api as sm \n",
    "from sklearn.model_selection import train_test_split\n",
    "import pandas as pd\n",
    "import matplotlib.pylab as plt \n",
    "import numpy.linalg as npl\n",
    "%matplotlib inline"
   ]
  },
  {
   "cell_type": "markdown",
   "metadata": {},
   "source": [
    "### Problem 1:  \n",
    "\n",
    "**PART A:** Parker has been keeping careful track of how much ice cream he eats after his training runs. He has stored the data in `icecream.csv`, where his ice cream consumption is measured in number of scoops, and his run distances are saved in units of miles. In this exercise you will construct a least squares model for the response variable \"amount of ice cream consumed\" (`scoops`), using \"number of miles run\" (`miles`) as the feature. Execute the two cells below to load the data into a Pandas DataFrame.\n"
   ]
  },
  {
   "cell_type": "code",
   "execution_count": null,
   "metadata": {
    "scrolled": true
   },
   "outputs": [
    {
     "data": {
      "image/png": "[encoded data removed]",
      "text/plain": [
       "<Figure size 432x288 with 1 Axes>"
      ]
     },
     "metadata": {
      "needs_background": "light"
     },
     "output_type": "display_data"
    }
   ],
   "source": [
    "# file generation code:\n",
    "np.random.seed(3022)\n",
    "\n",
    "astar = 3\n",
    "bstar = 0.4\n",
    "sigma = 1\n",
    "\n",
    "n = 100\n",
    "runs = stats.uniform.rvs(loc=1.2345, scale=15, size=n)\n",
    "scoops = astar + bstar*runs + stats.norm.rvs(loc=0, scale=sigma, size=n)\n",
    "\n",
    "plt.scatter(runs, scoops)\n",
    "plt.xlim([0,17])\n",
    "plt.ylim([0,13])\n",
    "plt.show()\n",
    "\n",
    "dfIce = pd.DataFrame(data={'miles':runs, 'scoops':scoops})\n",
    "dfIce.to_csv(\"icecream.csv\", index=False)"
   ]
  },
  {
   "cell_type": "code",
   "execution_count": null,
   "metadata": {},
   "outputs": [
    {
     "data": {
      "text/html": [
       "<div>\n",
       "<style scoped>\n",
       "    .dataframe tbody tr th:only-of-type {\n",
       "        vertical-align: middle;\n",
       "    }\n",
       "\n",
       "    .dataframe tbody tr th {\n",
       "        vertical-align: top;\n",
       "    }\n",
       "\n",
       "    .dataframe thead th {\n",
       "        text-align: right;\n",
       "    }\n",
       "</style>\n",
       "<table border=\"1\" class=\"dataframe\">\n",
       "  <thead>\n",
       "    <tr style=\"text-align: right;\">\n",
       "      <th></th>\n",
       "      <th>miles</th>\n",
       "      <th>scoops</th>\n",
       "    </tr>\n",
       "  </thead>\n",
       "  <tbody>\n",
       "    <tr>\n",
       "      <th>0</th>\n",
       "      <td>14.300531</td>\n",
       "      <td>8.922252</td>\n",
       "    </tr>\n",
       "    <tr>\n",
       "      <th>1</th>\n",
       "      <td>9.361511</td>\n",
       "      <td>4.720254</td>\n",
       "    </tr>\n",
       "    <tr>\n",
       "      <th>2</th>\n",
       "      <td>13.929330</td>\n",
       "      <td>8.567314</td>\n",
       "    </tr>\n",
       "    <tr>\n",
       "      <th>3</th>\n",
       "      <td>12.673436</td>\n",
       "      <td>8.855122</td>\n",
       "    </tr>\n",
       "    <tr>\n",
       "      <th>4</th>\n",
       "      <td>16.055107</td>\n",
       "      <td>9.409772</td>\n",
       "    </tr>\n",
       "  </tbody>\n",
       "</table>\n",
       "</div>"
      ],
      "text/plain": [
       "       miles    scoops\n",
       "0  14.300531  8.922252\n",
       "1   9.361511  4.720254\n",
       "2  13.929330  8.567314\n",
       "3  12.673436  8.855122\n",
       "4  16.055107  9.409772"
      ]
     },
     "execution_count": 3,
     "metadata": {},
     "output_type": "execute_result"
    }
   ],
   "source": [
    "dfTreats = pd.read_csv(\"icecream.csv\")\n",
    "dfTreats.head()"
   ]
  },
  {
   "cell_type": "markdown",
   "metadata": {},
   "source": [
    "**PART B:** Perform a simple linear regression (least squares fit) with `miles` as the feature and `scoops` as the response.  Report the estimated regression model in the form $Y = \\alpha + \\beta x$. Do all computations in Python."
   ]
  },
  {
   "cell_type": "code",
   "execution_count": null,
   "metadata": {},
   "outputs": [
    {
     "data": {
      "image/png": "[encoded data removed]",
      "text/plain": [
       "<Figure size 432x288 with 1 Axes>"
      ]
     },
     "metadata": {
      "needs_background": "light"
     },
     "output_type": "display_data"
    }
   ],
   "source": [
    "# Your code here.\n",
    "n = len(scoops)\n",
    "btest = np.stack((np.ones(n), runs), axis=1)\n",
    "test = npl.lstsq(btest, scoops, rcond=None)[0]\n",
    "\n",
    "plt.plot(runs, btest @ test, color='green')\n",
    "plt.xlim([0,17])\n",
    "plt.ylim([0,13])\n",
    "plt.scatter(runs, scoops)\n",
    "plt.show()"
   ]
  },
  {
   "cell_type": "markdown",
   "metadata": {},
   "source": [
    "**PART C:** Compute the RMS error of your model from **PART B**."
   ]
  },
  {
   "cell_type": "code",
   "execution_count": null,
   "metadata": {},
   "outputs": [
    {
     "name": "stdout",
     "output_type": "stream",
     "text": [
      "1.1039598211151245\n"
     ]
    }
   ],
   "source": [
    "# Your code here.\n",
    "mse = np.square(np.subtract(scoops,(btest @ test))).mean()\n",
    "\n",
    "rmse = np.sqrt(mse)\n",
    "print(rmse)"
   ]
  },
  {
   "cell_type": "markdown",
   "metadata": {},
   "source": [
    "**PART D:** Use the code cell below to randomly draw a test set. In **Part E**, you will be performing an out-of-sample validation of your model."
   ]
  },
  {
   "cell_type": "code",
   "execution_count": null,
   "metadata": {},
   "outputs": [],
   "source": [
    "np.random.seed(2820)\n",
    "data = list(zip(dfTreats[\"miles\"],dfTreats[\"scoops\"]))\n",
    "\n",
    "np.random.shuffle(data)\n",
    "training_dataset, test_dataset = sklearn.model_selection.train_test_split(data, train_size=90, test_size=10)\n",
    "\n",
    "feature_test = []\n",
    "y_test = []\n",
    "for ii in range(len(test_dataset)):\n",
    "    feature_test.append(test_dataset[ii][0])\n",
    "    y_test.append(test_dataset[ii][1])\n",
    "    \n",
    "feature_train = []\n",
    "y_train = []\n",
    "for ii in range(len(training_dataset)):\n",
    "    feature_train.append(training_dataset[ii][0])\n",
    "    y_train.append(training_dataset[ii][1])\n",
    "    \n",
    "test_dict = {\"miles\":feature_test, \"scoops\":y_test}\n",
    "train_dict = {\"miles\":feature_train, \"scoops\":y_train}\n",
    "\n",
    "dfTestSet = pd.DataFrame(data=test_dict)\n",
    "dfTrainingSet = pd.DataFrame(data=train_dict)"
   ]
  },
  {
   "cell_type": "code",
   "execution_count": null,
   "metadata": {},
   "outputs": [
    {
     "data": {
      "text/html": [
       "<div>\n",
       "<style scoped>\n",
       "    .dataframe tbody tr th:only-of-type {\n",
       "        vertical-align: middle;\n",
       "    }\n",
       "\n",
       "    .dataframe tbody tr th {\n",
       "        vertical-align: top;\n",
       "    }\n",
       "\n",
       "    .dataframe thead th {\n",
       "        text-align: right;\n",
       "    }\n",
       "</style>\n",
       "<table border=\"1\" class=\"dataframe\">\n",
       "  <thead>\n",
       "    <tr style=\"text-align: right;\">\n",
       "      <th></th>\n",
       "      <th>miles</th>\n",
       "      <th>scoops</th>\n",
       "    </tr>\n",
       "  </thead>\n",
       "  <tbody>\n",
       "    <tr>\n",
       "      <th>0</th>\n",
       "      <td>7.368346</td>\n",
       "      <td>7.813114</td>\n",
       "    </tr>\n",
       "    <tr>\n",
       "      <th>1</th>\n",
       "      <td>10.000334</td>\n",
       "      <td>6.893307</td>\n",
       "    </tr>\n",
       "    <tr>\n",
       "      <th>2</th>\n",
       "      <td>5.098861</td>\n",
       "      <td>7.318355</td>\n",
       "    </tr>\n",
       "    <tr>\n",
       "      <th>3</th>\n",
       "      <td>6.137674</td>\n",
       "      <td>6.307874</td>\n",
       "    </tr>\n",
       "    <tr>\n",
       "      <th>4</th>\n",
       "      <td>1.577379</td>\n",
       "      <td>2.608175</td>\n",
       "    </tr>\n",
       "  </tbody>\n",
       "</table>\n",
       "</div>"
      ],
      "text/plain": [
       "       miles    scoops\n",
       "0   7.368346  7.813114\n",
       "1  10.000334  6.893307\n",
       "2   5.098861  7.318355\n",
       "3   6.137674  6.307874\n",
       "4   1.577379  2.608175"
      ]
     },
     "execution_count": 7,
     "metadata": {},
     "output_type": "execute_result"
    }
   ],
   "source": [
    "dfTestSet.head()"
   ]
  },
  {
   "cell_type": "code",
   "execution_count": null,
   "metadata": {},
   "outputs": [
    {
     "data": {
      "text/html": [
       "<div>\n",
       "<style scoped>\n",
       "    .dataframe tbody tr th:only-of-type {\n",
       "        vertical-align: middle;\n",
       "    }\n",
       "\n",
       "    .dataframe tbody tr th {\n",
       "        vertical-align: top;\n",
       "    }\n",
       "\n",
       "    .dataframe thead th {\n",
       "        text-align: right;\n",
       "    }\n",
       "</style>\n",
       "<table border=\"1\" class=\"dataframe\">\n",
       "  <thead>\n",
       "    <tr style=\"text-align: right;\">\n",
       "      <th></th>\n",
       "      <th>miles</th>\n",
       "      <th>scoops</th>\n",
       "    </tr>\n",
       "  </thead>\n",
       "  <tbody>\n",
       "    <tr>\n",
       "      <th>0</th>\n",
       "      <td>6.327682</td>\n",
       "      <td>5.603935</td>\n",
       "    </tr>\n",
       "    <tr>\n",
       "      <th>1</th>\n",
       "      <td>14.257663</td>\n",
       "      <td>8.259234</td>\n",
       "    </tr>\n",
       "    <tr>\n",
       "      <th>2</th>\n",
       "      <td>3.181743</td>\n",
       "      <td>3.055331</td>\n",
       "    </tr>\n",
       "    <tr>\n",
       "      <th>3</th>\n",
       "      <td>15.088920</td>\n",
       "      <td>8.774816</td>\n",
       "    </tr>\n",
       "    <tr>\n",
       "      <th>4</th>\n",
       "      <td>1.771091</td>\n",
       "      <td>3.110615</td>\n",
       "    </tr>\n",
       "  </tbody>\n",
       "</table>\n",
       "</div>"
      ],
      "text/plain": [
       "       miles    scoops\n",
       "0   6.327682  5.603935\n",
       "1  14.257663  8.259234\n",
       "2   3.181743  3.055331\n",
       "3  15.088920  8.774816\n",
       "4   1.771091  3.110615"
      ]
     },
     "execution_count": 8,
     "metadata": {},
     "output_type": "execute_result"
    }
   ],
   "source": [
    "dfTrainingSet.head()"
   ]
  },
  {
   "cell_type": "markdown",
   "metadata": {},
   "source": [
    "**PART E:** \n",
    "- Use out-of-sample validation to first fit a least squares fit to your training data. Make a scatter-plot of the data with `miles` as the feature and `scoops` as the response, and overlay the estimated regression line.  Clearly label all relevant plot elements and include a legend.\n"
   ]
  },
  {
   "cell_type": "code",
   "execution_count": null,
   "metadata": {},
   "outputs": [
    {
     "data": {
      "image/png": "[encoded data removed]",
      "text/plain": [
       "<Figure size 432x288 with 1 Axes>"
      ]
     },
     "metadata": {
      "needs_background": "light"
     },
     "output_type": "display_data"
    }
   ],
   "source": [
    "# Your code here.  \n",
    "n = len(y_test)\n",
    "btest = np.stack((np.ones(n), feature_test), axis=1)\n",
    "\n",
    "\n",
    "l = len(y_train)\n",
    "b1test = np.stack((np.ones(l), feature_train), axis=1)\n",
    "test2 = npl.lstsq(b1test, y_train, rcond=None)[0]\n",
    "plt.plot(feature_train, b1test @ test2, color='green')\n",
    "\n",
    "plt.scatter(feature_test, y_test)\n",
    "plt.scatter(feature_train, y_train)\n",
    "plt.show()"
   ]
  },
  {
   "cell_type": "markdown",
   "metadata": {},
   "source": [
    "**PART F:** Compute the RMS prediction error for the training data set AND the test data set.\n",
    "- Compare the RMS values, and comment on whether you think your model is a good model and whether or not you think it has good generalization ability."
   ]
  },
  {
   "cell_type": "code",
   "execution_count": null,
   "metadata": {},
   "outputs": [
    {
     "name": "stdout",
     "output_type": "stream",
     "text": [
      "1.290648924758721\n"
     ]
    }
   ],
   "source": [
    "# RMS for test set\n",
    "mse_train = np.square(np.subtract(y_test,(btest @ test2))).mean()\n",
    "\n",
    "rmse_train = np.sqrt(mse_train)\n",
    "print(rmse_train)"
   ]
  },
  {
   "cell_type": "code",
   "execution_count": null,
   "metadata": {},
   "outputs": [
    {
     "name": "stdout",
     "output_type": "stream",
     "text": [
      "1.0832472305342296\n"
     ]
    }
   ],
   "source": [
    "# RMS for training set\n",
    "mse_test = np.square(np.subtract(y_train,(b1test @ test2))).mean()\n",
    "\n",
    "rmse_test = np.sqrt(mse_test)\n",
    "print(rmse_test)"
   ]
  },
  {
   "cell_type": "markdown",
   "metadata": {},
   "source": []
  },
  {
   "cell_type": "markdown",
   "metadata": {},
   "source": [
    "### Problem 2:  \n",
    "\n",
    "**PART A:** A randomized control study was performed with $18$ subjects to investigate the effect of exercise and diet on weight loss.  All $18$ subjects of the study exercised on a daily basis, one third of the subjects ate their regular diet, one third of subjects ate based on Diet $A$, and one third of subjects ate based on Diet $B$.  The observed weight loss after one week is summarized in the following data. "
   ]
  },
  {
   "cell_type": "code",
   "execution_count": null,
   "metadata": {},
   "outputs": [
    {
     "data": {
      "text/html": [
       "<div>\n",
       "<style scoped>\n",
       "    .dataframe tbody tr th:only-of-type {\n",
       "        vertical-align: middle;\n",
       "    }\n",
       "\n",
       "    .dataframe tbody tr th {\n",
       "        vertical-align: top;\n",
       "    }\n",
       "\n",
       "    .dataframe thead th {\n",
       "        text-align: right;\n",
       "    }\n",
       "</style>\n",
       "<table border=\"1\" class=\"dataframe\">\n",
       "  <thead>\n",
       "    <tr style=\"text-align: right;\">\n",
       "      <th></th>\n",
       "      <th>Control</th>\n",
       "      <th>Diet A</th>\n",
       "      <th>Diet B</th>\n",
       "    </tr>\n",
       "  </thead>\n",
       "  <tbody>\n",
       "    <tr>\n",
       "      <th>0</th>\n",
       "      <td>4</td>\n",
       "      <td>5</td>\n",
       "      <td>9</td>\n",
       "    </tr>\n",
       "    <tr>\n",
       "      <th>1</th>\n",
       "      <td>8</td>\n",
       "      <td>4</td>\n",
       "      <td>8</td>\n",
       "    </tr>\n",
       "    <tr>\n",
       "      <th>2</th>\n",
       "      <td>7</td>\n",
       "      <td>4</td>\n",
       "      <td>8</td>\n",
       "    </tr>\n",
       "    <tr>\n",
       "      <th>3</th>\n",
       "      <td>5</td>\n",
       "      <td>3</td>\n",
       "      <td>10</td>\n",
       "    </tr>\n",
       "    <tr>\n",
       "      <th>4</th>\n",
       "      <td>1</td>\n",
       "      <td>9</td>\n",
       "      <td>5</td>\n",
       "    </tr>\n",
       "    <tr>\n",
       "      <th>5</th>\n",
       "      <td>5</td>\n",
       "      <td>4</td>\n",
       "      <td>10</td>\n",
       "    </tr>\n",
       "  </tbody>\n",
       "</table>\n",
       "</div>"
      ],
      "text/plain": [
       "   Control  Diet A  Diet B\n",
       "0        4       5       9\n",
       "1        8       4       8\n",
       "2        7       4       8\n",
       "3        5       3      10\n",
       "4        1       9       5\n",
       "5        5       4      10"
      ]
     },
     "execution_count": 12,
     "metadata": {},
     "output_type": "execute_result"
    }
   ],
   "source": [
    "dfA = pd.DataFrame({\"Control\": np.array([4,8,7,5,1,5]),\"Diet A\": np.array([5,4,4,3,9,4]),\"Diet B\": np.array([9,8,8,10,5,10])})\n",
    "dfA.head(10)"
   ]
  },
  {
   "cell_type": "markdown",
   "metadata": {},
   "source": [
    "**PART B:** Using python, set up a design matrix to expand this categorical problem with 3 values using 2 features."
   ]
  },
  {
   "cell_type": "code",
   "execution_count": null,
   "metadata": {},
   "outputs": [
    {
     "name": "stdout",
     "output_type": "stream",
     "text": [
      "    test  testA  testB\n",
      "0      4      0      0\n",
      "1      8      0      0\n",
      "2      7      0      0\n",
      "3      5      0      0\n",
      "4      1      0      0\n",
      "5      5      0      0\n",
      "6      5      1      0\n",
      "7      4      1      0\n",
      "8      4      1      0\n",
      "9      3      1      0\n",
      "10     9      1      0\n",
      "11     4      1      0\n",
      "12     9      0      1\n",
      "13     8      0      1\n",
      "14     8      0      1\n",
      "15    10      0      1\n",
      "16     5      0      1\n",
      "17    10      0      1\n"
     ]
    }
   ],
   "source": [
    "# Your code here.\n",
    "dFTest = pd.DataFrame({\"test\": np.array([4,8,7,5,1,5,5,4,4,3,9,4,9,8,8,10,5,10]), \"testA\": np.array([0,0,0,0,0,0,1,1,1,1,1,1,0,0,0,0,0,0]),\"testB\": np.array([0,0,0,0,0,0,0,0,0,0,0,0,1,1,1,1,1,1]) })\n",
    "print(dFTest)"
   ]
  },
  {
   "cell_type": "markdown",
   "metadata": {},
   "source": [
    "**PART C:** Use python to fit a linear regression where the features are binary categorical variables associated with group membership."
   ]
  },
  {
   "cell_type": "code",
   "execution_count": null,
   "metadata": {},
   "outputs": [
    {
     "name": "stdout",
     "output_type": "stream",
     "text": [
      "[ 5.         -0.16666667  3.33333333]\n"
     ]
    }
   ],
   "source": [
    "# Your code here.\n",
    "x = len(dFTest)\n",
    "aOnes = np.stack((np.ones(x), dFTest[\"testA\"],dFTest[\"testB\"]), axis=1)\n",
    "\n",
    "linA = npl.lstsq(aOnes, dFTest[\"test\"] , rcond=None)[0]\n",
    "# linA = npl.lstsq( dFTest[\"test\"], aOnes , rcond=None)[0]\n",
    "# plt.plot(aOnes @ linA, color='green')\n",
    "\n",
    "print(linA)\n",
    "\n",
    "# plt.scatter(dFTest[\"test\"], dFTest[\"testA\"],dFTest[\"testB\"])\n",
    "# plt.show()"
   ]
  },
  {
   "cell_type": "markdown",
   "metadata": {},
   "source": [
    "**PART D:** Briefly summarize your model. Do you think one diet yields more weightloss than another? Do either of the diets yield a significant amount more weightloss than the control group?"
   ]
  },
  {
   "cell_type": "markdown",
   "metadata": {},
   "source": [
    "Based on the calculations from part C, Diet B has more weightloss than Diet A and it also has more weight loss than the control group. The control group lost more than those on Diet A as well."
   ]
  }
 ],
 "metadata": {
  "kernelspec": {
   "display_name": "Python 3",
   "language": "python",
   "name": "python3"
  },
  "language_info": {
   "codemirror_mode": {
    "name": "ipython",
    "version": 3
   },
   "file_extension": ".py",
   "mimetype": "text/x-python",
   "name": "python",
   "nbconvert_exporter": "python",
   "pygments_lexer": "ipython3",
   "version": "3.9.7"
  }
 },
 "nbformat": 4,
 "nbformat_minor": 2
}
